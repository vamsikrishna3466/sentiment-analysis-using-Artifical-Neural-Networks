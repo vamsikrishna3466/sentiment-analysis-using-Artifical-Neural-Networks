{
 "cells": [
  {
   "cell_type": "code",
   "execution_count": 1,
   "metadata": {
    "_cell_guid": "b1076dfc-b9ad-4769-8c92-a6c4dae69d19",
    "_uuid": "8f2839f25d086af736a60e9eeb907d3b93b6e0e5",
    "execution": {
     "iopub.execute_input": "2020-11-28T15:10:50.715555Z",
     "iopub.status.busy": "2020-11-28T15:10:50.714685Z",
     "iopub.status.idle": "2020-11-28T15:10:50.722792Z",
     "shell.execute_reply": "2020-11-28T15:10:50.721729Z"
    },
    "papermill": {
     "duration": 0.043528,
     "end_time": "2020-11-28T15:10:50.723282",
     "exception": false,
     "start_time": "2020-11-28T15:10:50.679754",
     "status": "completed"
    },
    "tags": []
   },
   "outputs": [
    {
     "name": "stdout",
     "output_type": "stream",
     "text": [
      "/kaggle/input/covidtweets/CovidTweets.csv\n"
     ]
    }
   ],
   "source": [
    "# This Python 3 environment comes with many helpful analytics libraries installed\n",
    "# It is defined by the kaggle/python Docker image: https://github.com/kaggle/docker-python\n",
    "# For example, here's several helpful packages to load\n",
    "\n",
    "import numpy as np # linear algebra\n",
    "import pandas as pd # data processing, CSV file I/O (e.g. pd.read_csv)\n",
    "\n",
    "# Input data files are available in the read-only \"../input/\" directory\n",
    "# For example, running this (by clicking run or pressing Shift+Enter) will list all files under the input directory\n",
    "\n",
    "import os\n",
    "for dirname, _, filenames in os.walk('/kaggle/input'):\n",
    "    for filename in filenames:\n",
    "        print(os.path.join(dirname, filename))\n",
    "\n",
    "# You can write up to 20GB to the current directory (/kaggle/working/) that gets preserved as output when you create a version using \"Save & Run All\" \n",
    "# You can also write temporary files to /kaggle/temp/, but they won't be saved outside of the current session"
   ]
  },
  {
   "cell_type": "code",
   "execution_count": null,
   "metadata": {
    "papermill": {
     "duration": 0.025475,
     "end_time": "2020-11-28T15:10:50.777230",
     "exception": false,
     "start_time": "2020-11-28T15:10:50.751755",
     "status": "completed"
    },
    "tags": []
   },
   "outputs": [],
   "source": []
  },
  {
   "cell_type": "code",
   "execution_count": 2,
   "metadata": {
    "_cell_guid": "79c7e3d0-c299-4dcb-8224-4455121ee9b0",
    "_uuid": "d629ff2d2480ee46fbb7e2d37f6b5fab8052498a",
    "execution": {
     "iopub.execute_input": "2020-11-28T15:10:50.836989Z",
     "iopub.status.busy": "2020-11-28T15:10:50.836210Z",
     "iopub.status.idle": "2020-11-28T15:10:59.634088Z",
     "shell.execute_reply": "2020-11-28T15:10:59.633280Z"
    },
    "papermill": {
     "duration": 8.831581,
     "end_time": "2020-11-28T15:10:59.634219",
     "exception": false,
     "start_time": "2020-11-28T15:10:50.802638",
     "status": "completed"
    },
    "tags": []
   },
   "outputs": [],
   "source": [
    "# Basic packages\n",
    "import pandas as pd \n",
    "import numpy as np\n",
    "import re\n",
    "import collections\n",
    "import matplotlib.pyplot as plt\n",
    "from nltk.stem import WordNetLemmatizer\n",
    "import re\n",
    "# Packages for data preparation\n",
    "from sklearn.model_selection import train_test_split\n",
    "from nltk.corpus import stopwords\n",
    "from keras.preprocessing.text import Tokenizer\n",
    "from keras.utils.np_utils import to_categorical\n",
    "from sklearn.preprocessing import LabelEncoder\n",
    "\n",
    "# Packages for modeling\n",
    "from keras import models\n",
    "from keras import layers\n",
    "from keras import regularizers"
   ]
  },
  {
   "cell_type": "code",
   "execution_count": 3,
   "metadata": {
    "execution": {
     "iopub.execute_input": "2020-11-28T15:10:59.700302Z",
     "iopub.status.busy": "2020-11-28T15:10:59.699267Z",
     "iopub.status.idle": "2020-11-28T15:10:59.703295Z",
     "shell.execute_reply": "2020-11-28T15:10:59.702519Z"
    },
    "papermill": {
     "duration": 0.043641,
     "end_time": "2020-11-28T15:10:59.703441",
     "exception": false,
     "start_time": "2020-11-28T15:10:59.659800",
     "status": "completed"
    },
    "tags": []
   },
   "outputs": [],
   "source": [
    "NB_WORDS = 10000  # Parameter indicating the number of words we'll put in the dictionary\n",
    "VAL_SIZE = 1000  # Size of the validation set\n",
    "NB_START_EPOCHS = 20  # Number of epochs we usually start to train with\n",
    "BATCH_SIZE = 512  # Size of the batches used in the mini-batch gradient descent"
   ]
  },
  {
   "cell_type": "code",
   "execution_count": 4,
   "metadata": {
    "execution": {
     "iopub.execute_input": "2020-11-28T15:10:59.764338Z",
     "iopub.status.busy": "2020-11-28T15:10:59.763528Z",
     "iopub.status.idle": "2020-11-28T15:10:59.813747Z",
     "shell.execute_reply": "2020-11-28T15:10:59.812976Z"
    },
    "papermill": {
     "duration": 0.084478,
     "end_time": "2020-11-28T15:10:59.813885",
     "exception": false,
     "start_time": "2020-11-28T15:10:59.729407",
     "status": "completed"
    },
    "tags": []
   },
   "outputs": [
    {
     "data": {
      "text/html": [
       "<div>\n",
       "<style scoped>\n",
       "    .dataframe tbody tr th:only-of-type {\n",
       "        vertical-align: middle;\n",
       "    }\n",
       "\n",
       "    .dataframe tbody tr th {\n",
       "        vertical-align: top;\n",
       "    }\n",
       "\n",
       "    .dataframe thead th {\n",
       "        text-align: right;\n",
       "    }\n",
       "</style>\n",
       "<table border=\"1\" class=\"dataframe\">\n",
       "  <thead>\n",
       "    <tr style=\"text-align: right;\">\n",
       "      <th></th>\n",
       "      <th>text</th>\n",
       "      <th>sentiment</th>\n",
       "    </tr>\n",
       "  </thead>\n",
       "  <tbody>\n",
       "    <tr>\n",
       "      <th>1394</th>\n",
       "      <td>aanya shares her views on how to become a supe...</td>\n",
       "      <td>joy</td>\n",
       "    </tr>\n",
       "    <tr>\n",
       "      <th>762</th>\n",
       "      <td>watch coronavirus awarness eps01 facebook live...</td>\n",
       "      <td>sad</td>\n",
       "    </tr>\n",
       "    <tr>\n",
       "      <th>1247</th>\n",
       "      <td>it is sad and sickening to see how humans can ...</td>\n",
       "      <td>sad</td>\n",
       "    </tr>\n",
       "    <tr>\n",
       "      <th>2542</th>\n",
       "      <td>lock down is causing the shortage of blood for...</td>\n",
       "      <td>sad</td>\n",
       "    </tr>\n",
       "    <tr>\n",
       "      <th>108</th>\n",
       "      <td>i have been switching between al jazeera sky n...</td>\n",
       "      <td>anger</td>\n",
       "    </tr>\n",
       "  </tbody>\n",
       "</table>\n",
       "</div>"
      ],
      "text/plain": [
       "                                                   text sentiment\n",
       "1394  aanya shares her views on how to become a supe...       joy\n",
       "762   watch coronavirus awarness eps01 facebook live...       sad\n",
       "1247  it is sad and sickening to see how humans can ...       sad\n",
       "2542  lock down is causing the shortage of blood for...       sad\n",
       "108   i have been switching between al jazeera sky n...     anger"
      ]
     },
     "execution_count": 4,
     "metadata": {},
     "output_type": "execute_result"
    }
   ],
   "source": [
    "df = pd.read_csv('../input/covidtweets/CovidTweets.csv')\n",
    "df = df.reindex(np.random.permutation(df.index))  \n",
    "df = df[['text', 'sentiment']]\n",
    "df.head()"
   ]
  },
  {
   "cell_type": "code",
   "execution_count": 5,
   "metadata": {
    "execution": {
     "iopub.execute_input": "2020-11-28T15:10:59.878330Z",
     "iopub.status.busy": "2020-11-28T15:10:59.877457Z",
     "iopub.status.idle": "2020-11-28T15:11:03.745645Z",
     "shell.execute_reply": "2020-11-28T15:11:03.740774Z"
    },
    "papermill": {
     "duration": 3.905548,
     "end_time": "2020-11-28T15:11:03.745880",
     "exception": false,
     "start_time": "2020-11-28T15:10:59.840332",
     "status": "completed"
    },
    "tags": []
   },
   "outputs": [
    {
     "data": {
      "text/html": [
       "<div>\n",
       "<style scoped>\n",
       "    .dataframe tbody tr th:only-of-type {\n",
       "        vertical-align: middle;\n",
       "    }\n",
       "\n",
       "    .dataframe tbody tr th {\n",
       "        vertical-align: top;\n",
       "    }\n",
       "\n",
       "    .dataframe thead th {\n",
       "        text-align: right;\n",
       "    }\n",
       "</style>\n",
       "<table border=\"1\" class=\"dataframe\">\n",
       "  <thead>\n",
       "    <tr style=\"text-align: right;\">\n",
       "      <th></th>\n",
       "      <th>text</th>\n",
       "      <th>sentiment</th>\n",
       "    </tr>\n",
       "  </thead>\n",
       "  <tbody>\n",
       "    <tr>\n",
       "      <th>1394</th>\n",
       "      <td>aanya share view become super hero amidst lock...</td>\n",
       "      <td>joy</td>\n",
       "    </tr>\n",
       "    <tr>\n",
       "      <th>762</th>\n",
       "      <td>watch coronavirus awarness eps   facebook live...</td>\n",
       "      <td>sad</td>\n",
       "    </tr>\n",
       "    <tr>\n",
       "      <th>1247</th>\n",
       "      <td>sad sickening see human still selfish apart ha...</td>\n",
       "      <td>sad</td>\n",
       "    </tr>\n",
       "    <tr>\n",
       "      <th>2542</th>\n",
       "      <td>lock causing shortage blood patient would sugg...</td>\n",
       "      <td>sad</td>\n",
       "    </tr>\n",
       "    <tr>\n",
       "      <th>108</th>\n",
       "      <td>switching al jazeera sky news bbc cnn frankly ...</td>\n",
       "      <td>anger</td>\n",
       "    </tr>\n",
       "  </tbody>\n",
       "</table>\n",
       "</div>"
      ],
      "text/plain": [
       "                                                   text sentiment\n",
       "1394  aanya share view become super hero amidst lock...       joy\n",
       "762   watch coronavirus awarness eps   facebook live...       sad\n",
       "1247  sad sickening see human still selfish apart ha...       sad\n",
       "2542  lock causing shortage blood patient would sugg...       sad\n",
       "108   switching al jazeera sky news bbc cnn frankly ...     anger"
      ]
     },
     "execution_count": 5,
     "metadata": {},
     "output_type": "execute_result"
    }
   ],
   "source": [
    "\n",
    "lemmatizer = WordNetLemmatizer()\n",
    "def remove_stopwords(input_text):\n",
    "        stopwords_list = stopwords.words('english')\n",
    "        # Some words which might indicate a certain sentiment are kept via a whitelist\n",
    "        whitelist = [\"n't\", \"not\", \"no\"]\n",
    "        words = input_text.split() \n",
    "        clean_words = [lemmatizer.lemmatize(word) for word in words if (word not in stopwords_list or word in whitelist) and len(word) > 1] \n",
    "        return \" \".join(clean_words) \n",
    "    \n",
    "def remove_mentions(input_text):\n",
    "        return re.sub('[^a-zA-Z]', ' ',input_text)\n",
    "       \n",
    "df.text = df.text.apply(remove_stopwords).apply(remove_mentions)\n",
    "df.head()"
   ]
  },
  {
   "cell_type": "code",
   "execution_count": 6,
   "metadata": {
    "execution": {
     "iopub.execute_input": "2020-11-28T15:11:03.821438Z",
     "iopub.status.busy": "2020-11-28T15:11:03.820656Z",
     "iopub.status.idle": "2020-11-28T15:11:03.825089Z",
     "shell.execute_reply": "2020-11-28T15:11:03.824256Z"
    },
    "papermill": {
     "duration": 0.042671,
     "end_time": "2020-11-28T15:11:03.825227",
     "exception": false,
     "start_time": "2020-11-28T15:11:03.782556",
     "status": "completed"
    },
    "tags": []
   },
   "outputs": [
    {
     "name": "stdout",
     "output_type": "stream",
     "text": [
      "# Train data samples: 2781\n",
      "# Test data samples: 309\n"
     ]
    }
   ],
   "source": [
    "X_train, X_test, y_train, y_test = train_test_split(df.text, df.sentiment, test_size=0.1, random_state=37)\n",
    "print('# Train data samples:', X_train.shape[0])\n",
    "print('# Test data samples:', X_test.shape[0])\n",
    "assert X_train.shape[0] == y_train.shape[0]\n",
    "assert X_test.shape[0] == y_test.shape[0]"
   ]
  },
  {
   "cell_type": "code",
   "execution_count": 7,
   "metadata": {
    "execution": {
     "iopub.execute_input": "2020-11-28T15:11:03.910364Z",
     "iopub.status.busy": "2020-11-28T15:11:03.905238Z",
     "iopub.status.idle": "2020-11-28T15:11:03.985520Z",
     "shell.execute_reply": "2020-11-28T15:11:03.984876Z"
    },
    "papermill": {
     "duration": 0.132822,
     "end_time": "2020-11-28T15:11:03.985660",
     "exception": false,
     "start_time": "2020-11-28T15:11:03.852838",
     "status": "completed"
    },
    "tags": []
   },
   "outputs": [
    {
     "name": "stdout",
     "output_type": "stream",
     "text": [
      "Fitted tokenizer on 2781 documents\n",
      "10000 words in dictionary\n",
      "Top 5 most common words are: [('coronavirus', 920), ('not', 699), ('corona', 478), ('covid', 461), ('lockdown', 380)]\n"
     ]
    }
   ],
   "source": [
    "tk = Tokenizer(num_words=NB_WORDS,\n",
    "               filters='!\"#$%&()*+,-./:;<=>?@[\\\\]^_`{|}~\\t\\n',\n",
    "               lower=True,\n",
    "               split=\" \")\n",
    "tk.fit_on_texts(X_train)\n",
    "\n",
    "print('Fitted tokenizer on {} documents'.format(tk.document_count))\n",
    "print('{} words in dictionary'.format(tk.num_words))\n",
    "print('Top 5 most common words are:', collections.Counter(tk.word_counts).most_common(5))"
   ]
  },
  {
   "cell_type": "code",
   "execution_count": 8,
   "metadata": {
    "execution": {
     "iopub.execute_input": "2020-11-28T15:11:04.076886Z",
     "iopub.status.busy": "2020-11-28T15:11:04.056159Z",
     "iopub.status.idle": "2020-11-28T15:11:04.127811Z",
     "shell.execute_reply": "2020-11-28T15:11:04.126822Z"
    },
    "papermill": {
     "duration": 0.114054,
     "end_time": "2020-11-28T15:11:04.127981",
     "exception": false,
     "start_time": "2020-11-28T15:11:04.013927",
     "status": "completed"
    },
    "tags": []
   },
   "outputs": [
    {
     "name": "stdout",
     "output_type": "stream",
     "text": [
      "\"agree poor india treated badly poor seek living singapore treated like citizen given free medical treatment given food daily sim card call home tell family fine covid    case treated foc hospital\" is converted into [290, 3766, 506, 698, 31, 996, 3, 363, 699, 3767, 589, 873, 997, 1327, 1568, 775]\n"
     ]
    }
   ],
   "source": [
    "X_train_seq = tk.texts_to_sequences(X_train)\n",
    "X_test_seq = tk.texts_to_sequences(X_test)\n",
    "\n",
    "print('\"{}\" is converted into {}'.format(X_train[0], X_train_seq[0]))"
   ]
  },
  {
   "cell_type": "code",
   "execution_count": 9,
   "metadata": {
    "execution": {
     "iopub.execute_input": "2020-11-28T15:11:04.194611Z",
     "iopub.status.busy": "2020-11-28T15:11:04.193840Z",
     "iopub.status.idle": "2020-11-28T15:11:04.273100Z",
     "shell.execute_reply": "2020-11-28T15:11:04.272472Z"
    },
    "papermill": {
     "duration": 0.116179,
     "end_time": "2020-11-28T15:11:04.273221",
     "exception": false,
     "start_time": "2020-11-28T15:11:04.157042",
     "status": "completed"
    },
    "tags": []
   },
   "outputs": [
    {
     "name": "stdout",
     "output_type": "stream",
     "text": [
      "\"[290, 3766, 506, 698, 31, 996, 3, 363, 699, 3767, 589, 873, 997, 1327, 1568, 775]\" is converted into [0. 0. 0. ... 0. 0. 0.]\n",
      "For this example we have 16.0 features with a value of 1.\n"
     ]
    }
   ],
   "source": [
    "def one_hot_seq(seqs, nb_features = NB_WORDS):\n",
    "    ohs = np.zeros((len(seqs), nb_features))\n",
    "    for i, s in enumerate(seqs):\n",
    "        ohs[i, s] = 1.\n",
    "    return ohs\n",
    "\n",
    "X_train_oh = one_hot_seq(X_train_seq)\n",
    "X_test_oh = one_hot_seq(X_test_seq)\n",
    "\n",
    "print('\"{}\" is converted into {}'.format(X_train_seq[0], X_train_oh[0]))\n",
    "print('For this example we have {} features with a value of 1.'.format(X_train_oh[0].sum()))"
   ]
  },
  {
   "cell_type": "code",
   "execution_count": 10,
   "metadata": {
    "execution": {
     "iopub.execute_input": "2020-11-28T15:11:04.341079Z",
     "iopub.status.busy": "2020-11-28T15:11:04.340171Z",
     "iopub.status.idle": "2020-11-28T15:11:04.345981Z",
     "shell.execute_reply": "2020-11-28T15:11:04.345245Z"
    },
    "papermill": {
     "duration": 0.04361,
     "end_time": "2020-11-28T15:11:04.346111",
     "exception": false,
     "start_time": "2020-11-28T15:11:04.302501",
     "status": "completed"
    },
    "tags": []
   },
   "outputs": [
    {
     "name": "stdout",
     "output_type": "stream",
     "text": [
      "\"sad\" is converted into 2\n",
      "\"2\" is converted into [0. 0. 1. 0.]\n"
     ]
    }
   ],
   "source": [
    "le = LabelEncoder()\n",
    "y_train_le = le.fit_transform(y_train)\n",
    "y_test_le = le.transform(y_test)\n",
    "y_train_oh = to_categorical(y_train_le)\n",
    "\n",
    "y_test_oh = to_categorical(y_test_le)\n",
    "\n",
    "print('\"{}\" is converted into {}'.format(y_train[0], y_train_le[0]))\n",
    "print('\"{}\" is converted into {}'.format(y_train_le[0], y_train_oh[0]))"
   ]
  },
  {
   "cell_type": "code",
   "execution_count": 11,
   "metadata": {
    "execution": {
     "iopub.execute_input": "2020-11-28T15:11:04.414566Z",
     "iopub.status.busy": "2020-11-28T15:11:04.413797Z",
     "iopub.status.idle": "2020-11-28T15:11:04.597276Z",
     "shell.execute_reply": "2020-11-28T15:11:04.596642Z"
    },
    "papermill": {
     "duration": 0.220894,
     "end_time": "2020-11-28T15:11:04.597402",
     "exception": false,
     "start_time": "2020-11-28T15:11:04.376508",
     "status": "completed"
    },
    "tags": []
   },
   "outputs": [
    {
     "name": "stdout",
     "output_type": "stream",
     "text": [
      "Shape of validation set: (279, 10000)\n"
     ]
    }
   ],
   "source": [
    "X_train_rest, X_valid, y_train_rest, y_valid = train_test_split(X_train_oh, y_train_oh, test_size=0.1, random_state=37)\n",
    "\n",
    "assert X_valid.shape[0] == y_valid.shape[0]\n",
    "assert X_train_rest.shape[0] == y_train_rest.shape[0]\n",
    "\n",
    "print('Shape of validation set:',X_valid.shape)"
   ]
  },
  {
   "cell_type": "code",
   "execution_count": 12,
   "metadata": {
    "execution": {
     "iopub.execute_input": "2020-11-28T15:11:04.665885Z",
     "iopub.status.busy": "2020-11-28T15:11:04.665062Z",
     "iopub.status.idle": "2020-11-28T15:11:04.817980Z",
     "shell.execute_reply": "2020-11-28T15:11:04.816048Z"
    },
    "papermill": {
     "duration": 0.190307,
     "end_time": "2020-11-28T15:11:04.818181",
     "exception": false,
     "start_time": "2020-11-28T15:11:04.627874",
     "status": "completed"
    },
    "tags": []
   },
   "outputs": [
    {
     "name": "stdout",
     "output_type": "stream",
     "text": [
      "Model: \"sequential\"\n",
      "_________________________________________________________________\n",
      "Layer (type)                 Output Shape              Param #   \n",
      "=================================================================\n",
      "dense (Dense)                (None, 64)                640064    \n",
      "_________________________________________________________________\n",
      "dense_1 (Dense)              (None, 64)                4160      \n",
      "_________________________________________________________________\n",
      "dense_2 (Dense)              (None, 4)                 260       \n",
      "=================================================================\n",
      "Total params: 644,484\n",
      "Trainable params: 644,484\n",
      "Non-trainable params: 0\n",
      "_________________________________________________________________\n"
     ]
    }
   ],
   "source": [
    "base_model = models.Sequential()\n",
    "base_model.add(layers.Dense(64, activation='relu', input_shape=(NB_WORDS,)))\n",
    "base_model.add(layers.Dense(64, activation='relu'))\n",
    "base_model.add(layers.Dense(4, activation='softmax'))\n",
    "base_model.summary()"
   ]
  },
  {
   "cell_type": "code",
   "execution_count": 13,
   "metadata": {
    "execution": {
     "iopub.execute_input": "2020-11-28T15:11:04.889103Z",
     "iopub.status.busy": "2020-11-28T15:11:04.888068Z",
     "iopub.status.idle": "2020-11-28T15:11:04.891449Z",
     "shell.execute_reply": "2020-11-28T15:11:04.890706Z"
    },
    "papermill": {
     "duration": 0.041966,
     "end_time": "2020-11-28T15:11:04.891581",
     "exception": false,
     "start_time": "2020-11-28T15:11:04.849615",
     "status": "completed"
    },
    "tags": []
   },
   "outputs": [],
   "source": [
    "def deep_model(model):\n",
    "    model.compile(optimizer='rmsprop'\n",
    "                  , loss='categorical_crossentropy'\n",
    "                  , metrics=['accuracy'])\n",
    "    \n",
    "    history = model.fit(X_train_rest\n",
    "                       , y_train_rest\n",
    "                       , epochs=NB_START_EPOCHS\n",
    "                       , batch_size=BATCH_SIZE\n",
    "                       , validation_data=(X_valid, y_valid)\n",
    "                       , verbose=0)\n",
    "    \n",
    "    return history"
   ]
  },
  {
   "cell_type": "code",
   "execution_count": 14,
   "metadata": {
    "execution": {
     "iopub.execute_input": "2020-11-28T15:11:04.965461Z",
     "iopub.status.busy": "2020-11-28T15:11:04.964407Z",
     "iopub.status.idle": "2020-11-28T15:11:09.111768Z",
     "shell.execute_reply": "2020-11-28T15:11:09.110907Z"
    },
    "papermill": {
     "duration": 4.189067,
     "end_time": "2020-11-28T15:11:09.111909",
     "exception": false,
     "start_time": "2020-11-28T15:11:04.922842",
     "status": "completed"
    },
    "tags": []
   },
   "outputs": [],
   "source": [
    "base_history = deep_model(base_model)"
   ]
  },
  {
   "cell_type": "code",
   "execution_count": 15,
   "metadata": {
    "execution": {
     "iopub.execute_input": "2020-11-28T15:11:09.184231Z",
     "iopub.status.busy": "2020-11-28T15:11:09.183377Z",
     "iopub.status.idle": "2020-11-28T15:11:09.187278Z",
     "shell.execute_reply": "2020-11-28T15:11:09.186488Z"
    },
    "papermill": {
     "duration": 0.043346,
     "end_time": "2020-11-28T15:11:09.187411",
     "exception": false,
     "start_time": "2020-11-28T15:11:09.144065",
     "status": "completed"
    },
    "tags": []
   },
   "outputs": [],
   "source": [
    "def eval_metric(history, metric_name):\n",
    "    metric = history.history[metric_name]\n",
    "    val_metric = history.history['val_' + metric_name]\n",
    "\n",
    "    e = range(1, NB_START_EPOCHS + 1)\n",
    "\n",
    "    plt.plot(e, metric, 'bo', label='Train ' + metric_name)\n",
    "    plt.plot(e, val_metric, 'b', label='Validation ' + metric_name)\n",
    "    plt.legend()\n",
    "    plt.show()"
   ]
  },
  {
   "cell_type": "code",
   "execution_count": 16,
   "metadata": {
    "execution": {
     "iopub.execute_input": "2020-11-28T15:11:09.257356Z",
     "iopub.status.busy": "2020-11-28T15:11:09.256406Z",
     "iopub.status.idle": "2020-11-28T15:11:09.522359Z",
     "shell.execute_reply": "2020-11-28T15:11:09.521577Z"
    },
    "papermill": {
     "duration": 0.302704,
     "end_time": "2020-11-28T15:11:09.522510",
     "exception": false,
     "start_time": "2020-11-28T15:11:09.219806",
     "status": "completed"
    },
    "tags": []
   },
   "outputs": [
    {
     "data": {
      "image/png": "[encoded data removed]",
      "text/plain": [
       "<Figure size 432x288 with 1 Axes>"
      ]
     },
     "metadata": {
      "needs_background": "light"
     },
     "output_type": "display_data"
    }
   ],
   "source": [
    "eval_metric(base_history, 'loss')"
   ]
  },
  {
   "cell_type": "code",
   "execution_count": 17,
   "metadata": {
    "execution": {
     "iopub.execute_input": "2020-11-28T15:11:09.599175Z",
     "iopub.status.busy": "2020-11-28T15:11:09.598253Z",
     "iopub.status.idle": "2020-11-28T15:11:09.627068Z",
     "shell.execute_reply": "2020-11-28T15:11:09.625311Z"
    },
    "papermill": {
     "duration": 0.072091,
     "end_time": "2020-11-28T15:11:09.627288",
     "exception": false,
     "start_time": "2020-11-28T15:11:09.555197",
     "status": "completed"
    },
    "tags": []
   },
   "outputs": [
    {
     "name": "stdout",
     "output_type": "stream",
     "text": [
      "Model: \"sequential_1\"\n",
      "_________________________________________________________________\n",
      "Layer (type)                 Output Shape              Param #   \n",
      "=================================================================\n",
      "dense_3 (Dense)              (None, 32)                320032    \n",
      "_________________________________________________________________\n",
      "dense_4 (Dense)              (None, 4)                 132       \n",
      "=================================================================\n",
      "Total params: 320,164\n",
      "Trainable params: 320,164\n",
      "Non-trainable params: 0\n",
      "_________________________________________________________________\n"
     ]
    }
   ],
   "source": [
    "reduced_model = models.Sequential()\n",
    "reduced_model.add(layers.Dense(32, activation='relu', input_shape=(NB_WORDS,)))\n",
    "reduced_model.add(layers.Dense(4, activation='softmax'))\n",
    "reduced_model.summary()"
   ]
  },
  {
   "cell_type": "code",
   "execution_count": 18,
   "metadata": {
    "execution": {
     "iopub.execute_input": "2020-11-28T15:11:09.708243Z",
     "iopub.status.busy": "2020-11-28T15:11:09.707465Z",
     "iopub.status.idle": "2020-11-28T15:11:12.587358Z",
     "shell.execute_reply": "2020-11-28T15:11:12.586478Z"
    },
    "papermill": {
     "duration": 2.925837,
     "end_time": "2020-11-28T15:11:12.587547",
     "exception": false,
     "start_time": "2020-11-28T15:11:09.661710",
     "status": "completed"
    },
    "tags": []
   },
   "outputs": [],
   "source": [
    "reduced_history = deep_model(reduced_model)"
   ]
  },
  {
   "cell_type": "code",
   "execution_count": 19,
   "metadata": {
    "execution": {
     "iopub.execute_input": "2020-11-28T15:11:12.663673Z",
     "iopub.status.busy": "2020-11-28T15:11:12.662594Z",
     "iopub.status.idle": "2020-11-28T15:11:12.666177Z",
     "shell.execute_reply": "2020-11-28T15:11:12.665377Z"
    },
    "papermill": {
     "duration": 0.045132,
     "end_time": "2020-11-28T15:11:12.666316",
     "exception": false,
     "start_time": "2020-11-28T15:11:12.621184",
     "status": "completed"
    },
    "tags": []
   },
   "outputs": [],
   "source": [
    "def compare_loss_with_baseline(h, model_name):\n",
    "    loss_base_model = base_history.history['val_loss']\n",
    "    loss_model = h.history['val_loss']\n",
    "\n",
    "    e = range(1, NB_START_EPOCHS + 1)\n",
    "\n",
    "    plt.plot(e, loss_base_model, 'bo', label='Validation Loss Baseline Model')\n",
    "    plt.plot(e, loss_model, 'b', label='Validation Loss ' + model_name)\n",
    "    plt.legend()\n",
    "    plt.show()"
   ]
  },
  {
   "cell_type": "code",
   "execution_count": 20,
   "metadata": {
    "execution": {
     "iopub.execute_input": "2020-11-28T15:11:12.748826Z",
     "iopub.status.busy": "2020-11-28T15:11:12.747710Z",
     "iopub.status.idle": "2020-11-28T15:11:12.940470Z",
     "shell.execute_reply": "2020-11-28T15:11:12.939808Z"
    },
    "papermill": {
     "duration": 0.23983,
     "end_time": "2020-11-28T15:11:12.940605",
     "exception": false,
     "start_time": "2020-11-28T15:11:12.700775",
     "status": "completed"
    },
    "tags": []
   },
   "outputs": [
    {
     "data": {
      "image/png": "[encoded data removed]",
      "text/plain": [
       "<Figure size 432x288 with 1 Axes>"
      ]
     },
     "metadata": {
      "needs_background": "light"
     },
     "output_type": "display_data"
    }
   ],
   "source": [
    "compare_loss_with_baseline(reduced_history, 'Reduced Model')"
   ]
  },
  {
   "cell_type": "code",
   "execution_count": 21,
   "metadata": {
    "execution": {
     "iopub.execute_input": "2020-11-28T15:11:13.024484Z",
     "iopub.status.busy": "2020-11-28T15:11:13.023647Z",
     "iopub.status.idle": "2020-11-28T15:11:13.060464Z",
     "shell.execute_reply": "2020-11-28T15:11:13.059335Z"
    },
    "papermill": {
     "duration": 0.084842,
     "end_time": "2020-11-28T15:11:13.060647",
     "exception": false,
     "start_time": "2020-11-28T15:11:12.975805",
     "status": "completed"
    },
    "tags": []
   },
   "outputs": [
    {
     "name": "stdout",
     "output_type": "stream",
     "text": [
      "Model: \"sequential_2\"\n",
      "_________________________________________________________________\n",
      "Layer (type)                 Output Shape              Param #   \n",
      "=================================================================\n",
      "dense_5 (Dense)              (None, 64)                640064    \n",
      "_________________________________________________________________\n",
      "dense_6 (Dense)              (None, 64)                4160      \n",
      "_________________________________________________________________\n",
      "dense_7 (Dense)              (None, 4)                 260       \n",
      "=================================================================\n",
      "Total params: 644,484\n",
      "Trainable params: 644,484\n",
      "Non-trainable params: 0\n",
      "_________________________________________________________________\n"
     ]
    }
   ],
   "source": [
    "reg_model = models.Sequential()\n",
    "reg_model.add(layers.Dense(64, kernel_regularizer=regularizers.l2(0.001), activation='relu', input_shape=(NB_WORDS,)))\n",
    "reg_model.add(layers.Dense(64, kernel_regularizer=regularizers.l2(0.001), activation='relu'))\n",
    "reg_model.add(layers.Dense(4, activation='softmax'))\n",
    "reg_model.summary()"
   ]
  },
  {
   "cell_type": "code",
   "execution_count": 22,
   "metadata": {
    "execution": {
     "iopub.execute_input": "2020-11-28T15:11:13.146052Z",
     "iopub.status.busy": "2020-11-28T15:11:13.145030Z",
     "iopub.status.idle": "2020-11-28T15:11:17.041811Z",
     "shell.execute_reply": "2020-11-28T15:11:17.041028Z"
    },
    "papermill": {
     "duration": 3.945327,
     "end_time": "2020-11-28T15:11:17.042027",
     "exception": false,
     "start_time": "2020-11-28T15:11:13.096700",
     "status": "completed"
    },
    "tags": []
   },
   "outputs": [],
   "source": [
    "reg_history = deep_model(reg_model)"
   ]
  },
  {
   "cell_type": "code",
   "execution_count": 23,
   "metadata": {
    "execution": {
     "iopub.execute_input": "2020-11-28T15:11:17.136287Z",
     "iopub.status.busy": "2020-11-28T15:11:17.132845Z",
     "iopub.status.idle": "2020-11-28T15:11:17.339254Z",
     "shell.execute_reply": "2020-11-28T15:11:17.338486Z"
    },
    "papermill": {
     "duration": 0.259399,
     "end_time": "2020-11-28T15:11:17.339384",
     "exception": false,
     "start_time": "2020-11-28T15:11:17.079985",
     "status": "completed"
    },
    "tags": []
   },
   "outputs": [
    {
     "data": {
      "image/png": "[encoded data removed]",
      "text/plain": [
       "<Figure size 432x288 with 1 Axes>"
      ]
     },
     "metadata": {
      "needs_background": "light"
     },
     "output_type": "display_data"
    }
   ],
   "source": [
    "compare_loss_with_baseline(reg_history, 'Regularized Model')"
   ]
  },
  {
   "cell_type": "code",
   "execution_count": 24,
   "metadata": {
    "execution": {
     "iopub.execute_input": "2020-11-28T15:11:17.424633Z",
     "iopub.status.busy": "2020-11-28T15:11:17.423118Z",
     "iopub.status.idle": "2020-11-28T15:11:17.491611Z",
     "shell.execute_reply": "2020-11-28T15:11:17.490971Z"
    },
    "papermill": {
     "duration": 0.115212,
     "end_time": "2020-11-28T15:11:17.491779",
     "exception": false,
     "start_time": "2020-11-28T15:11:17.376567",
     "status": "completed"
    },
    "tags": []
   },
   "outputs": [
    {
     "name": "stdout",
     "output_type": "stream",
     "text": [
      "Model: \"sequential_3\"\n",
      "_________________________________________________________________\n",
      "Layer (type)                 Output Shape              Param #   \n",
      "=================================================================\n",
      "dense_8 (Dense)              (None, 64)                640064    \n",
      "_________________________________________________________________\n",
      "dropout (Dropout)            (None, 64)                0         \n",
      "_________________________________________________________________\n",
      "dense_9 (Dense)              (None, 64)                4160      \n",
      "_________________________________________________________________\n",
      "dropout_1 (Dropout)          (None, 64)                0         \n",
      "_________________________________________________________________\n",
      "dense_10 (Dense)             (None, 4)                 260       \n",
      "=================================================================\n",
      "Total params: 644,484\n",
      "Trainable params: 644,484\n",
      "Non-trainable params: 0\n",
      "_________________________________________________________________\n"
     ]
    }
   ],
   "source": [
    "drop_model = models.Sequential()\n",
    "drop_model.add(layers.Dense(64, activation='relu', input_shape=(NB_WORDS,)))\n",
    "drop_model.add(layers.Dropout(0.5\n",
    "                             ))\n",
    "drop_model.add(layers.Dense(64, activation='relu'))\n",
    "drop_model.add(layers.Dropout(0.5))\n",
    "drop_model.add(layers.Dense(4, activation='softmax'))\n",
    "drop_model.summary()"
   ]
  },
  {
   "cell_type": "code",
   "execution_count": 25,
   "metadata": {
    "execution": {
     "iopub.execute_input": "2020-11-28T15:11:17.579003Z",
     "iopub.status.busy": "2020-11-28T15:11:17.576314Z",
     "iopub.status.idle": "2020-11-28T15:11:21.373283Z",
     "shell.execute_reply": "2020-11-28T15:11:21.372616Z"
    },
    "papermill": {
     "duration": 3.844075,
     "end_time": "2020-11-28T15:11:21.373411",
     "exception": false,
     "start_time": "2020-11-28T15:11:17.529336",
     "status": "completed"
    },
    "tags": []
   },
   "outputs": [],
   "source": [
    "drop_history = deep_model(drop_model)\n"
   ]
  },
  {
   "cell_type": "code",
   "execution_count": 26,
   "metadata": {
    "execution": {
     "iopub.execute_input": "2020-11-28T15:11:21.459307Z",
     "iopub.status.busy": "2020-11-28T15:11:21.454269Z",
     "iopub.status.idle": "2020-11-28T15:11:21.645785Z",
     "shell.execute_reply": "2020-11-28T15:11:21.645174Z"
    },
    "papermill": {
     "duration": 0.234974,
     "end_time": "2020-11-28T15:11:21.645924",
     "exception": false,
     "start_time": "2020-11-28T15:11:21.410950",
     "status": "completed"
    },
    "tags": []
   },
   "outputs": [
    {
     "data": {
      "image/png": "[encoded data removed]",
      "text/plain": [
       "<Figure size 432x288 with 1 Axes>"
      ]
     },
     "metadata": {
      "needs_background": "light"
     },
     "output_type": "display_data"
    }
   ],
   "source": [
    "compare_loss_with_baseline(drop_history, 'Dropout Model')"
   ]
  },
  {
   "cell_type": "code",
   "execution_count": 27,
   "metadata": {
    "execution": {
     "iopub.execute_input": "2020-11-28T15:11:21.730641Z",
     "iopub.status.busy": "2020-11-28T15:11:21.729675Z",
     "iopub.status.idle": "2020-11-28T15:11:21.732833Z",
     "shell.execute_reply": "2020-11-28T15:11:21.732177Z"
    },
    "papermill": {
     "duration": 0.048403,
     "end_time": "2020-11-28T15:11:21.732971",
     "exception": false,
     "start_time": "2020-11-28T15:11:21.684568",
     "status": "completed"
    },
    "tags": []
   },
   "outputs": [],
   "source": [
    "def test_model(model, epoch_stop):\n",
    "    model.fit(X_train_oh\n",
    "              , y_train_oh\n",
    "              , epochs=epoch_stop\n",
    "              , batch_size=BATCH_SIZE\n",
    "              , verbose=0)\n",
    "    results = model.evaluate(X_test_oh, y_test_oh)\n",
    "    \n",
    "    return results"
   ]
  },
  {
   "cell_type": "code",
   "execution_count": 28,
   "metadata": {
    "execution": {
     "iopub.execute_input": "2020-11-28T15:11:21.819305Z",
     "iopub.status.busy": "2020-11-28T15:11:21.817873Z",
     "iopub.status.idle": "2020-11-28T15:11:22.597247Z",
     "shell.execute_reply": "2020-11-28T15:11:22.597821Z"
    },
    "papermill": {
     "duration": 0.825366,
     "end_time": "2020-11-28T15:11:22.597991",
     "exception": false,
     "start_time": "2020-11-28T15:11:21.772625",
     "status": "completed"
    },
    "tags": []
   },
   "outputs": [
    {
     "name": "stdout",
     "output_type": "stream",
     "text": [
      "10/10 [==============================] - 0s 2ms/step - loss: 1.1076 - accuracy: 0.6893\n",
      "/n\n",
      "Test accuracy of baseline model: 68.93%\n"
     ]
    }
   ],
   "source": [
    "base_results = test_model(base_model, 4)\n",
    "print('/n')\n",
    "print('Test accuracy of baseline model: {0:.2f}%'.format(base_results[1]*100))"
   ]
  },
  {
   "cell_type": "code",
   "execution_count": 29,
   "metadata": {
    "execution": {
     "iopub.execute_input": "2020-11-28T15:11:22.685941Z",
     "iopub.status.busy": "2020-11-28T15:11:22.685124Z",
     "iopub.status.idle": "2020-11-28T15:11:23.871532Z",
     "shell.execute_reply": "2020-11-28T15:11:23.870745Z"
    },
    "papermill": {
     "duration": 1.23264,
     "end_time": "2020-11-28T15:11:23.871669",
     "exception": false,
     "start_time": "2020-11-28T15:11:22.639029",
     "status": "completed"
    },
    "tags": []
   },
   "outputs": [
    {
     "name": "stdout",
     "output_type": "stream",
     "text": [
      "10/10 [==============================] - 0s 2ms/step - loss: 0.8574 - accuracy: 0.6861\n",
      "/n\n",
      "Test accuracy of reduced model: 68.61%\n"
     ]
    }
   ],
   "source": [
    "reduced_results = test_model(reduced_model, 10)\n",
    "print('/n')\n",
    "print('Test accuracy of reduced model: {0:.2f}%'.format(reduced_results[1]*100))"
   ]
  },
  {
   "cell_type": "code",
   "execution_count": 30,
   "metadata": {
    "execution": {
     "iopub.execute_input": "2020-11-28T15:11:23.961117Z",
     "iopub.status.busy": "2020-11-28T15:11:23.960323Z",
     "iopub.status.idle": "2020-11-28T15:11:24.905133Z",
     "shell.execute_reply": "2020-11-28T15:11:24.905763Z"
    },
    "papermill": {
     "duration": 0.992853,
     "end_time": "2020-11-28T15:11:24.905924",
     "exception": false,
     "start_time": "2020-11-28T15:11:23.913071",
     "status": "completed"
    },
    "tags": []
   },
   "outputs": [
    {
     "name": "stdout",
     "output_type": "stream",
     "text": [
      "10/10 [==============================] - 0s 2ms/step - loss: 1.1032 - accuracy: 0.6958\n",
      "/n\n",
      "Test accuracy of regularized model: 69.58%\n"
     ]
    }
   ],
   "source": [
    "reg_results = test_model(reg_model, 5)\n",
    "print('/n')\n",
    "print('Test accuracy of regularized model: {0:.2f}%'.format(reg_results[1]*100))"
   ]
  },
  {
   "cell_type": "code",
   "execution_count": 31,
   "metadata": {
    "execution": {
     "iopub.execute_input": "2020-11-28T15:11:24.999871Z",
     "iopub.status.busy": "2020-11-28T15:11:24.998974Z",
     "iopub.status.idle": "2020-11-28T15:11:26.236553Z",
     "shell.execute_reply": "2020-11-28T15:11:26.237386Z"
    },
    "papermill": {
     "duration": 1.287948,
     "end_time": "2020-11-28T15:11:26.237627",
     "exception": false,
     "start_time": "2020-11-28T15:11:24.949679",
     "status": "completed"
    },
    "tags": []
   },
   "outputs": [
    {
     "name": "stdout",
     "output_type": "stream",
     "text": [
      "10/10 [==============================] - 0s 2ms/step - loss: 0.8627 - accuracy: 0.6764\n",
      "/n\n",
      "Test accuracy of dropout model: 67.64%\n"
     ]
    }
   ],
   "source": [
    "drop_results = test_model(drop_model, 6)\n",
    "print('/n')\n",
    "print('Test accuracy of dropout model: {0:.2f}%'.format(drop_results[1]*100))"
   ]
  }
 ],
 "metadata": {
  "kernelspec": {
   "display_name": "Python 3",
   "language": "python",
   "name": "python3"
  },
  "language_info": {
   "codemirror_mode": {
    "name": "ipython",
    "version": 3
   },
   "file_extension": ".py",
   "mimetype": "text/x-python",
   "name": "python",
   "nbconvert_exporter": "python",
   "pygments_lexer": "ipython3",
   "version": "3.7.6"
  },
  "papermill": {
   "duration": 41.256961,
   "end_time": "2020-11-28T15:11:26.407754",
   "environment_variables": {},
   "exception": null,
   "input_path": "__notebook__.ipynb",
   "output_path": "__notebook__.ipynb",
   "parameters": {},
   "start_time": "2020-11-28T15:10:45.150793",
   "version": "2.1.0"
  }
 },
 "nbformat": 4,
 "nbformat_minor": 4
}
